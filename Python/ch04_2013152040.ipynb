{
 "cells": [
  {
   "cell_type": "code",
   "execution_count": 1,
   "metadata": {},
   "outputs": [],
   "source": [
    "import numpy as np"
   ]
  },
  {
   "cell_type": "code",
   "execution_count": 2,
   "metadata": {},
   "outputs": [],
   "source": [
    "import numpy.linalg as lin"
   ]
  },
  {
   "cell_type": "markdown",
   "metadata": {},
   "source": [
    "## 다음의 데이터를 사용하시오\n",
    "2 3 5 6 7 10"
   ]
  },
  {
   "cell_type": "markdown",
   "metadata": {},
   "source": [
    "## a) 데이터 벡터 x를 만드시오"
   ]
  },
  {
   "cell_type": "code",
   "execution_count": 3,
   "metadata": {
    "scrolled": true
   },
   "outputs": [],
   "source": [
    "x = np.array([[2,3,5,6,7,10]])"
   ]
  },
  {
   "cell_type": "code",
   "execution_count": 4,
   "metadata": {},
   "outputs": [
    {
     "data": {
      "text/plain": [
       "array([[ 2,  3,  5,  6,  7, 10]])"
      ]
     },
     "execution_count": 4,
     "metadata": {},
     "output_type": "execute_result"
    }
   ],
   "source": [
    "x"
   ]
  },
  {
   "cell_type": "markdown",
   "metadata": {},
   "source": [
    "## b) 각 데이터의 제곱으로 구성된 벡터 x2를 만드시오"
   ]
  },
  {
   "cell_type": "code",
   "execution_count": 5,
   "metadata": {},
   "outputs": [],
   "source": [
    "x2= x**2"
   ]
  },
  {
   "cell_type": "code",
   "execution_count": 6,
   "metadata": {},
   "outputs": [
    {
     "data": {
      "text/plain": [
       "array([[  4,   9,  25,  36,  49, 100]], dtype=int32)"
      ]
     },
     "execution_count": 6,
     "metadata": {},
     "output_type": "execute_result"
    }
   ],
   "source": [
    "x2"
   ]
  },
  {
   "cell_type": "markdown",
   "metadata": {},
   "source": [
    "## c) 각 데이터의 제곱의 합을 구하시오"
   ]
  },
  {
   "cell_type": "code",
   "execution_count": 7,
   "metadata": {},
   "outputs": [
    {
     "data": {
      "text/plain": [
       "array([[  8,  18,  50,  72,  98, 200]], dtype=int32)"
      ]
     },
     "execution_count": 7,
     "metadata": {},
     "output_type": "execute_result"
    }
   ],
   "source": [
    "x2+x2"
   ]
  },
  {
   "cell_type": "markdown",
   "metadata": {},
   "source": [
    "## d) 각 데이터에서 2를 뺀 값을 구하시오"
   ]
  },
  {
   "cell_type": "code",
   "execution_count": 8,
   "metadata": {},
   "outputs": [
    {
     "data": {
      "text/plain": [
       "array([[0, 1, 3, 4, 5, 8]])"
      ]
     },
     "execution_count": 8,
     "metadata": {},
     "output_type": "execute_result"
    }
   ],
   "source": [
    "x-2"
   ]
  },
  {
   "cell_type": "markdown",
   "metadata": {},
   "source": [
    "## e) 최대값과 최소값을 구하시오"
   ]
  },
  {
   "cell_type": "code",
   "execution_count": 9,
   "metadata": {},
   "outputs": [
    {
     "data": {
      "text/plain": [
       "10"
      ]
     },
     "execution_count": 9,
     "metadata": {},
     "output_type": "execute_result"
    }
   ],
   "source": [
    "np.max(x)"
   ]
  },
  {
   "cell_type": "code",
   "execution_count": 10,
   "metadata": {},
   "outputs": [
    {
     "data": {
      "text/plain": [
       "2"
      ]
     },
     "execution_count": 10,
     "metadata": {},
     "output_type": "execute_result"
    }
   ],
   "source": [
    "np.min(x)"
   ]
  },
  {
   "cell_type": "markdown",
   "metadata": {},
   "source": [
    "## f) 5보다 큰 값들로만 구성된 데이터 벡터 x_up을 만드시오"
   ]
  },
  {
   "cell_type": "code",
   "execution_count": 11,
   "metadata": {},
   "outputs": [],
   "source": [
    "x_up=x[x>5]"
   ]
  },
  {
   "cell_type": "code",
   "execution_count": 12,
   "metadata": {},
   "outputs": [
    {
     "data": {
      "text/plain": [
       "array([ 6,  7, 10])"
      ]
     },
     "execution_count": 12,
     "metadata": {},
     "output_type": "execute_result"
    }
   ],
   "source": [
    "x_up"
   ]
  },
  {
   "cell_type": "markdown",
   "metadata": {},
   "source": [
    "## g) 벡터 x의 길이를 구하시오"
   ]
  },
  {
   "cell_type": "code",
   "execution_count": 13,
   "metadata": {},
   "outputs": [
    {
     "data": {
      "text/plain": [
       "6"
      ]
     },
     "execution_count": 13,
     "metadata": {},
     "output_type": "execute_result"
    }
   ],
   "source": [
    "len(x[x>0])"
   ]
  },
  {
   "cell_type": "markdown",
   "metadata": {},
   "source": [
    "## h) x'x를 구하시오 (x'는 x의 전치)"
   ]
  },
  {
   "cell_type": "code",
   "execution_count": 14,
   "metadata": {},
   "outputs": [
    {
     "data": {
      "text/plain": [
       "array([[  4,   6,  10,  12,  14,  20],\n",
       "       [  6,   9,  15,  18,  21,  30],\n",
       "       [ 10,  15,  25,  30,  35,  50],\n",
       "       [ 12,  18,  30,  36,  42,  60],\n",
       "       [ 14,  21,  35,  42,  49,  70],\n",
       "       [ 20,  30,  50,  60,  70, 100]])"
      ]
     },
     "execution_count": 14,
     "metadata": {},
     "output_type": "execute_result"
    }
   ],
   "source": [
    "np.dot(x.T,x)"
   ]
  },
  {
   "cell_type": "markdown",
   "metadata": {},
   "source": [
    "## i) xx'를 구하시오"
   ]
  },
  {
   "cell_type": "code",
   "execution_count": 15,
   "metadata": {},
   "outputs": [
    {
     "data": {
      "text/plain": [
       "array([[223]])"
      ]
     },
     "execution_count": 15,
     "metadata": {},
     "output_type": "execute_result"
    }
   ],
   "source": [
    "np.dot(x,x.T)"
   ]
  },
  {
   "cell_type": "markdown",
   "metadata": {},
   "source": [
    "## j) 벡터 x와 x2를 열결합(column bind)하여 xc에 저장하시오"
   ]
  },
  {
   "cell_type": "code",
   "execution_count": 16,
   "metadata": {},
   "outputs": [],
   "source": [
    "xc= np.c_[x,x2]"
   ]
  },
  {
   "cell_type": "code",
   "execution_count": 17,
   "metadata": {},
   "outputs": [
    {
     "data": {
      "text/plain": [
       "array([[  2,   3,   5,   6,   7,  10,   4,   9,  25,  36,  49, 100]])"
      ]
     },
     "execution_count": 17,
     "metadata": {},
     "output_type": "execute_result"
    }
   ],
   "source": [
    "xc"
   ]
  },
  {
   "cell_type": "markdown",
   "metadata": {},
   "source": [
    "## k) 벡터 x와 x2를 행결합(row bind) 하여 xr에 저장하시오"
   ]
  },
  {
   "cell_type": "code",
   "execution_count": 18,
   "metadata": {},
   "outputs": [],
   "source": [
    "xr=np.r_[x,x2]"
   ]
  },
  {
   "cell_type": "code",
   "execution_count": 19,
   "metadata": {},
   "outputs": [
    {
     "data": {
      "text/plain": [
       "array([[  2,   3,   5,   6,   7,  10],\n",
       "       [  4,   9,  25,  36,  49, 100]])"
      ]
     },
     "execution_count": 19,
     "metadata": {},
     "output_type": "execute_result"
    }
   ],
   "source": [
    "xr"
   ]
  },
  {
   "cell_type": "markdown",
   "metadata": {},
   "source": [
    "# ndarray 다루기"
   ]
  },
  {
   "cell_type": "markdown",
   "metadata": {},
   "source": [
    "## a) 표준정규분포를 따르는 난수 100개를 가진 배열 x를 만드시오"
   ]
  },
  {
   "cell_type": "code",
   "execution_count": 20,
   "metadata": {},
   "outputs": [],
   "source": [
    "x=np.array(np.random.randn(100))"
   ]
  },
  {
   "cell_type": "code",
   "execution_count": 21,
   "metadata": {},
   "outputs": [
    {
     "data": {
      "text/plain": [
       "array([ 0.98130294, -1.07069228, -0.12252941,  0.97430864,  0.41721863,\n",
       "        0.5215632 ,  1.35180415, -0.87374869,  0.57283013, -0.93308351,\n",
       "        1.87046792,  1.7484412 ,  1.27063134, -1.06866943,  0.64516273,\n",
       "        0.18102654,  0.20687731, -0.2563266 , -0.32244676, -0.61428066,\n",
       "        1.83766858, -3.065087  , -0.94214552, -0.42013033, -0.02370516,\n",
       "       -0.36793715, -1.20260036, -0.21662638,  0.22498187,  0.75160348,\n",
       "        0.97605559,  1.49964651, -0.46510378,  0.95254994,  0.83900215,\n",
       "       -0.30549632, -0.59748397,  0.57252363, -0.23369552, -0.07588971,\n",
       "       -1.51889228,  2.12139963,  0.93986458,  1.35881332,  0.81818521,\n",
       "        1.76209265, -0.90403706,  0.67142255,  0.52374964, -0.03420846,\n",
       "       -0.38336675, -0.70068105,  1.64257852,  0.15705458, -0.75815111,\n",
       "        0.21395983, -0.49714383, -1.88709004,  0.16433392, -0.17914887,\n",
       "        0.61293316, -0.08666044,  0.78237088, -0.08435752, -0.9681533 ,\n",
       "        0.16894181,  0.73322653, -0.59761075, -0.11817217, -0.13044232,\n",
       "       -0.44145187,  0.91980018,  1.40134759,  0.41323504, -0.30099348,\n",
       "       -1.23982007, -0.58660531, -0.63341527,  1.06475868, -1.9995455 ,\n",
       "       -0.15290495,  0.72338523, -1.41595634, -0.43634831,  0.47497139,\n",
       "       -1.20053914, -1.06269537,  1.39450349,  0.46776579,  0.00422359,\n",
       "        0.73655627, -0.76749304, -1.0810204 , -0.32818383,  1.31098742,\n",
       "       -1.0120199 , -0.59512723, -0.55043313,  0.679435  ,  0.92365568])"
      ]
     },
     "execution_count": 21,
     "metadata": {},
     "output_type": "execute_result"
    }
   ],
   "source": [
    "x"
   ]
  },
  {
   "cell_type": "markdown",
   "metadata": {},
   "source": [
    "## b) x에서 값이 0.2 보다 큰 원소들을 골라내시오"
   ]
  },
  {
   "cell_type": "code",
   "execution_count": 22,
   "metadata": {},
   "outputs": [
    {
     "data": {
      "text/plain": [
       "array([0.98130294, 0.97430864, 0.41721863, 0.5215632 , 1.35180415,\n",
       "       0.57283013, 1.87046792, 1.7484412 , 1.27063134, 0.64516273,\n",
       "       0.20687731, 1.83766858, 0.22498187, 0.75160348, 0.97605559,\n",
       "       1.49964651, 0.95254994, 0.83900215, 0.57252363, 2.12139963,\n",
       "       0.93986458, 1.35881332, 0.81818521, 1.76209265, 0.67142255,\n",
       "       0.52374964, 1.64257852, 0.21395983, 0.61293316, 0.78237088,\n",
       "       0.73322653, 0.91980018, 1.40134759, 0.41323504, 1.06475868,\n",
       "       0.72338523, 0.47497139, 1.39450349, 0.46776579, 0.73655627,\n",
       "       1.31098742, 0.679435  , 0.92365568])"
      ]
     },
     "execution_count": 22,
     "metadata": {},
     "output_type": "execute_result"
    }
   ],
   "source": [
    "x[x>0.2]"
   ]
  },
  {
   "cell_type": "markdown",
   "metadata": {},
   "source": [
    "# 문제 3. 선형방정식 풀기(해 구하기)"
   ]
  },
  {
   "cell_type": "markdown",
   "metadata": {},
   "source": [
    "다음과 같은 방정식이 있다.\n",
    "3x+6y-5z=12x-3y+2z=-25x-y+4z=10"
   ]
  },
  {
   "cell_type": "markdown",
   "metadata": {},
   "source": [
    "a) 위 식을 numpy를 이용해서 Ax=B 형태로 나타내시오 (A와 B만 생성)"
   ]
  },
  {
   "cell_type": "code",
   "execution_count": 23,
   "metadata": {},
   "outputs": [],
   "source": [
    "A=np.mat([[3,6,-5],[12,-3,2],[-25,-1,4]])"
   ]
  },
  {
   "cell_type": "code",
   "execution_count": 24,
   "metadata": {},
   "outputs": [
    {
     "data": {
      "text/plain": [
       "matrix([[  3,   6,  -5],\n",
       "        [ 12,  -3,   2],\n",
       "        [-25,  -1,   4]])"
      ]
     },
     "execution_count": 24,
     "metadata": {},
     "output_type": "execute_result"
    }
   ],
   "source": [
    "A"
   ]
  },
  {
   "cell_type": "code",
   "execution_count": 25,
   "metadata": {},
   "outputs": [],
   "source": [
    "B=np.mat([[10],[10],[10]])"
   ]
  },
  {
   "cell_type": "code",
   "execution_count": 26,
   "metadata": {},
   "outputs": [
    {
     "data": {
      "text/plain": [
       "matrix([[10],\n",
       "        [10],\n",
       "        [10]])"
      ]
     },
     "execution_count": 26,
     "metadata": {},
     "output_type": "execute_result"
    }
   ],
   "source": [
    "B"
   ]
  },
  {
   "cell_type": "markdown",
   "metadata": {},
   "source": [
    "b) A의 역행렬을 구하시오"
   ]
  },
  {
   "cell_type": "code",
   "execution_count": 27,
   "metadata": {
    "scrolled": true
   },
   "outputs": [
    {
     "data": {
      "text/plain": [
       "matrix([[0.05464481, 0.10382514, 0.01639344],\n",
       "        [0.53551913, 0.61748634, 0.36065574],\n",
       "        [0.47540984, 0.80327869, 0.44262295]])"
      ]
     },
     "execution_count": 27,
     "metadata": {},
     "output_type": "execute_result"
    }
   ],
   "source": [
    "lin.inv(A)"
   ]
  },
  {
   "cell_type": "markdown",
   "metadata": {},
   "source": [
    "c) 방정식의 해 벡터 x를 구하시오"
   ]
  },
  {
   "cell_type": "code",
   "execution_count": 28,
   "metadata": {},
   "outputs": [
    {
     "data": {
      "text/plain": [
       "matrix([[ 1.74863388],\n",
       "        [15.13661202],\n",
       "        [17.21311475]])"
      ]
     },
     "execution_count": 28,
     "metadata": {},
     "output_type": "execute_result"
    }
   ],
   "source": [
    "lin.inv(A)*B"
   ]
  },
  {
   "cell_type": "code",
   "execution_count": 29,
   "metadata": {},
   "outputs": [
    {
     "data": {
      "text/plain": [
       "matrix([[ 1.74863388],\n",
       "        [15.13661202],\n",
       "        [17.21311475]])"
      ]
     },
     "execution_count": 29,
     "metadata": {},
     "output_type": "execute_result"
    }
   ],
   "source": [
    "lin.solve(A,B)"
   ]
  }
 ],
 "metadata": {
  "kernelspec": {
   "display_name": "Python 3",
   "language": "python",
   "name": "python3"
  },
  "language_info": {
   "codemirror_mode": {
    "name": "ipython",
    "version": 3
   },
   "file_extension": ".py",
   "mimetype": "text/x-python",
   "name": "python",
   "nbconvert_exporter": "python",
   "pygments_lexer": "ipython3",
   "version": "3.6.4"
  }
 },
 "nbformat": 4,
 "nbformat_minor": 2
}
